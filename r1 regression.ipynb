{
 "cells": [
  {
   "cell_type": "code",
   "execution_count": 17,
   "metadata": {},
   "outputs": [
    {
     "name": "stdout",
     "output_type": "stream",
     "text": [
      "[[0.90582387]] [[0.53049308]] 0.900731626636606\n"
     ]
    }
   ],
   "source": [
    "import numpy as np\n",
    "from scipy.optimize import minimize\n",
    "x = np.sort(4 * (np.random.rand(25,1)-0.5),axis=0)\n",
    "b = 0.9 * x + 0.1 * np.random.randn(len(x),1)\n",
    "atrue = np.linalg.lstsq(x, b, rcond=None)[0]\n",
    "\n",
    "b[-1] = -5.5\n",
    "acorrupt = np.linalg.lstsq(x, b, rcond=None)[0]\n",
    "\n",
    "def L1_norm(a):\n",
    "    return np.linalg.norm(a*x-b,ord=1)\n",
    "\n",
    "a0= acorrupt[:,0]\n",
    "\n",
    "res = minimize(L1_norm, a0)\n",
    "aL1 = res.x[0]\n",
    "\n",
    "print(atrue, acorrupt, aL1)"
   ]
  },
  {
   "cell_type": "code",
   "execution_count": null,
   "metadata": {},
   "outputs": [],
   "source": []
  }
 ],
 "metadata": {
  "kernelspec": {
   "display_name": "Python 3",
   "language": "python",
   "name": "python3"
  },
  "language_info": {
   "codemirror_mode": {
    "name": "ipython",
    "version": 3
   },
   "file_extension": ".py",
   "mimetype": "text/x-python",
   "name": "python",
   "nbconvert_exporter": "python",
   "pygments_lexer": "ipython3",
   "version": "3.12.0"
  }
 },
 "nbformat": 4,
 "nbformat_minor": 2
}
