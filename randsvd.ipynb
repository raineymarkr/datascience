{
 "cells": [
  {
   "cell_type": "code",
   "execution_count": null,
   "metadata": {},
   "outputs": [],
   "source": [
    "import numpy as np\n",
    "\n",
    "def rSVD(X,r,q,p):\n",
    "    #Sample column space of X with P matrix\n",
    "    ny = X.shape[1]\n",
    "    P = np.random.randn(ny, r+p)\n",
    "    Z = X @ P\n",
    "    for k in range(q) : \n",
    "        Z = X @ (X.T @ Z)\n",
    "    \n",
    "    Q, R = np.linalg.qr(Z, mode = 'reduced')\n",
    "\n",
    "    #Compute SVD on projected Y = Q.T @ X\n",
    "    Y = Q.T @ X\n",
    "    UY, S, VT = np.linalg.svd(Y, full_matrices=0)\n",
    "    U = Q @ UY\n",
    "\n",
    "    return U, S, VT\n",
    "\n"
   ]
  }
 ],
 "metadata": {
  "language_info": {
   "name": "python"
  }
 },
 "nbformat": 4,
 "nbformat_minor": 2
}
