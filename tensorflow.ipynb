{
 "cells": [
  {
   "cell_type": "code",
   "execution_count": 2,
   "metadata": {},
   "outputs": [],
   "source": [
    "import tensorflow as tf\n",
    "import numpy as np\n",
    "import matplotlib.pyplot as plt\n",
    "import os\n",
    "from scipy import io"
   ]
  },
  {
   "cell_type": "code",
   "execution_count": 37,
   "metadata": {},
   "outputs": [
    {
     "name": "stdout",
     "output_type": "stream",
     "text": [
      "Epoch 1/10\n",
      "3/3 [==============================] - 1s 5ms/step - loss: 0.7645 - accuracy: 0.4375\n",
      "Epoch 2/10\n",
      "3/3 [==============================] - 0s 5ms/step - loss: 0.7173 - accuracy: 0.5250\n",
      "Epoch 3/10\n",
      "3/3 [==============================] - 0s 6ms/step - loss: 0.6756 - accuracy: 0.5500\n",
      "Epoch 4/10\n",
      "3/3 [==============================] - 0s 4ms/step - loss: 0.6827 - accuracy: 0.5125\n",
      "Epoch 5/10\n",
      "3/3 [==============================] - 0s 6ms/step - loss: 0.6775 - accuracy: 0.5250\n",
      "Epoch 6/10\n",
      "3/3 [==============================] - 0s 6ms/step - loss: 0.6773 - accuracy: 0.5250\n",
      "Epoch 7/10\n",
      "3/3 [==============================] - 0s 4ms/step - loss: 0.6770 - accuracy: 0.5250\n",
      "Epoch 8/10\n",
      "3/3 [==============================] - 0s 5ms/step - loss: 0.6763 - accuracy: 0.5250\n",
      "Epoch 9/10\n",
      "3/3 [==============================] - 0s 5ms/step - loss: 0.6760 - accuracy: 0.5250\n",
      "Epoch 10/10\n",
      "3/3 [==============================] - 0s 4ms/step - loss: 0.6762 - accuracy: 0.5250\n",
      "3/3 [==============================] - 0s 4ms/step\n",
      "3/3 [==============================] - 0s 2ms/step\n",
      "3/3 [==============================] - 0s 4ms/step - loss: 0.6756 - accuracy: 0.5250\n",
      "Epoch 1/10\n",
      "3/3 [==============================] - 1s 4ms/step - loss: 0.6787 - accuracy: 0.5625\n",
      "Epoch 2/10\n",
      "3/3 [==============================] - 0s 3ms/step - loss: 0.6563 - accuracy: 0.6250\n",
      "Epoch 3/10\n",
      "3/3 [==============================] - 0s 3ms/step - loss: 0.6332 - accuracy: 0.7125\n",
      "Epoch 4/10\n",
      "3/3 [==============================] - 0s 3ms/step - loss: 0.6732 - accuracy: 0.6375\n",
      "Epoch 5/10\n",
      "3/3 [==============================] - 0s 3ms/step - loss: 0.6259 - accuracy: 0.7375\n",
      "Epoch 6/10\n",
      "3/3 [==============================] - 0s 5ms/step - loss: 0.5852 - accuracy: 0.8125\n",
      "Epoch 7/10\n",
      "3/3 [==============================] - 0s 6ms/step - loss: 0.6185 - accuracy: 0.7000\n",
      "Epoch 8/10\n",
      "3/3 [==============================] - 0s 4ms/step - loss: 0.6438 - accuracy: 0.6375\n",
      "Epoch 9/10\n",
      "3/3 [==============================] - 0s 4ms/step - loss: 0.5587 - accuracy: 0.8625\n",
      "Epoch 10/10\n",
      "3/3 [==============================] - 0s 4ms/step - loss: 0.5774 - accuracy: 0.8125\n",
      "3/3 [==============================] - 0s 3ms/step\n",
      "3/3 [==============================] - 0s 2ms/step\n",
      "3/3 [==============================] - 1s 4ms/step - loss: 0.5368 - accuracy: 0.8875\n"
     ]
    }
   ],
   "source": [
    "dogdata_w_mat = io.loadmat(os.path.join(r'C:\\Users\\mark.rainey\\Downloads\\data science\\DATA','dogData_w.mat'))\n",
    "catdata_w_mat = io.loadmat(os.path.join(r'C:\\Users\\mark.rainey\\Downloads\\data science\\DATA','catData_w.mat'))\n",
    "\n",
    "dog_wave = dogdata_w_mat['dog_wave']\n",
    "cat_wave = catdata_w_mat['cat_wave']\n",
    "performance = [0,0]\n",
    "# Data Preparation\n",
    "x = np.concatenate((dog_wave[:, :40],cat_wave[:, :40]),axis=1).T\n",
    "x2 = np.concatenate((dog_wave[:, 40:80],cat_wave[:, 40:80]),axis=1).T\n",
    "\n",
    "labels = np.vstack([np.hstack([np.ones(40), np.zeros(40)]),\n",
    "                    np.hstack([np.zeros(40), np.ones(40)])]).T\n",
    "\n",
    "while performance[1] <= 0.8:\n",
    "    # Neural Network Creation\n",
    "    model = tf.keras.models.Sequential([\n",
    "        tf.keras.layers.Dense(2, activation='tanh', input_shape=(x.shape[1],)),\n",
    "        tf.keras.layers.Dense(2, activation='softmax')\n",
    "    ])\n",
    "\n",
    "    # Compile the model\n",
    "    model.compile(optimizer='sgd',  # trainscg in MATLAB is similar to SGD in TensorFlow\n",
    "                loss='categorical_crossentropy',\n",
    "                metrics=['accuracy'])\n",
    "\n",
    "    # Training\n",
    "    model.fit(x, labels, epochs=10)\n",
    "\n",
    "    # Evaluation\n",
    "    y = model.predict(x)\n",
    "    y2 = model.predict(x2)\n",
    "    performance = model.evaluate(x, labels)\n",
    "\n",
    "    # Convert outputs to classes\n",
    "    classes2 = np.argmax(y, axis=1)\n",
    "    classes3 = np.argmax(y2, axis=1)"
   ]
  },
  {
   "cell_type": "code",
   "execution_count": 39,
   "metadata": {},
   "outputs": [
    {
     "name": "stdout",
     "output_type": "stream",
     "text": [
      "Model: \"sequential_33\"\n",
      "_________________________________________________________________\n",
      " Layer (type)                Output Shape              Param #   \n",
      "=================================================================\n",
      " dense_70 (Dense)            (None, 2)                 2050      \n",
      "                                                                 \n",
      " dense_71 (Dense)            (None, 2)                 6         \n",
      "                                                                 \n",
      "=================================================================\n",
      "Total params: 2,056\n",
      "Trainable params: 2,056\n",
      "Non-trainable params: 0\n",
      "_________________________________________________________________\n"
     ]
    }
   ],
   "source": [
    "model.summary()"
   ]
  },
  {
   "cell_type": "code",
   "execution_count": null,
   "metadata": {},
   "outputs": [],
   "source": []
  }
 ],
 "metadata": {
  "kernelspec": {
   "display_name": "Python 3",
   "language": "python",
   "name": "python3"
  },
  "language_info": {
   "codemirror_mode": {
    "name": "ipython",
    "version": 3
   },
   "file_extension": ".py",
   "mimetype": "text/x-python",
   "name": "python",
   "nbconvert_exporter": "python",
   "pygments_lexer": "ipython3",
   "version": "3.10.13"
  }
 },
 "nbformat": 4,
 "nbformat_minor": 2
}
